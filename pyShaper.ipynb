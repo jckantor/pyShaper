{
 "cells": [
  {
   "cell_type": "markdown",
   "metadata": {
    "id": "3bP0MPI5hW8_"
   },
   "source": [
    "# pyShaper: Creating SVG files for Shaper Origin in Python\n",
    "\n",
    "The [Shaper Origin](https://www.shapertools.com/en-us/) is a hand-held CNC router design for woodworkers. The device accepts vector design files in the SVG format. This notebook demonstrates techniques to create SVG design files for the Shaper Origin using a simple Python class.\n",
    "\n",
    " The SVG generator has been adapted from from https://www.codedrome.com/svg-library-in-python/.\n",
    "\n",
    "\n"
   ]
  },
  {
   "cell_type": "markdown",
   "metadata": {
    "id": "RE5y_MPuIm1F"
   },
   "source": [
    "## Units\n",
    "\n",
    "A Shaper file is instantiated with a command\n",
    "\n",
    "    dwg = Shaper(width, height, grid_units)\n",
    "\n",
    "where ``grid_units`` can be ``'pt'``, ``'px'``, ``'mm'``, ``'cm'``, or ``'in'``. All grid locations passed are specified in the given ``grid_units``.\n",
    "\n",
    "The plan is to eventually implement ``object_unit`` units for individual objects comprise a drawing. This would enable, for example, specifying a 6mm hole located on a grid specified in inches."
   ]
  },
  {
   "cell_type": "markdown",
   "metadata": {
    "id": "p1XsSLT42ekh"
   },
   "source": [
    "## Basic Shapes\n",
    "\n",
    "The following shapes and lines are implemented as methods applied to an instance of a Shaper drawing.\n",
    "\n",
    "| stroke | inside | outside | pocket | guide |\n",
    "| :-- | :-- | :-- | :-- | :-- |\n",
    "| ``line`` |  - | - | - | ``guide_line`` \n",
    "| ``polyline`` | ``inside_polyline`` | ``outside_polyline`` | ``pocket_polyline`` | - \n",
    "| ``rectangle`` | ``inside_rectangle`` | ``outside_rectangle `` | ``pocket_rectangle`` | -\n",
    "| ``circle`` | ``inside_circle`` | ``outside_circle`` | ``pocket_circle`` | -\n",
    "| ``ellipse`` | ``inside_ellipse`` | ``outside_ellipse`` | ``pocket_ellipse`` | - \n",
    "|- | - | - | - | ``annotation``\n",
    "\n",
    "\n",
    "\n"
   ]
  },
  {
   "cell_type": "code",
   "execution_count": 1,
   "metadata": {
    "id": "dxQGkcmsirBy"
   },
   "outputs": [],
   "source": [
    "from IPython.display import SVG, display\n",
    "\n",
    "class pyShaper(object):\n",
    "\n",
    "    scale_factors = {\"px\": 1, \"pt\": 1, \"mm\": 72/25.4, \"cm\": 72/2.54, \"in\": 72}\n",
    "\n",
    "    def __init__(self, width, height, grid_units=\"px\"):\n",
    "        self.svg_list = []\n",
    "        self.width = width\n",
    "        self.height = height\n",
    "        self.grid_units = grid_units\n",
    "        self.sf = self.scale_factors[grid_units]\n",
    "        self.templates = self.__generate_templates()\n",
    "\n",
    "    def __add_to_svg(self, text):\n",
    "        self.svg_list.append(str(text))\n",
    "\n",
    "    def __generate_templates(self):\n",
    "        templates = {}\n",
    "        templates[\"svg_prefix\"] = \"<svg width='{0:.2f}' height='{1:.2f}' xmlns='http://www.w3.org/2000/svg' \" \\\n",
    "            + \"version='1.1' xmlns:xlink='http://www.w3.org/1999/xlink' viewbox = '0 0 {2:0.2f} {3:0.2f}'>\\n\"\n",
    "        templates[\"svg_suffix\"] = \"</svg>\"\n",
    "        templates[\"circle\"] = \"<circle fill='{0}' stroke='{1}' stroke-width='{2:0.2f}px' cx='{3:0.2f}' cy='{4:0.2f}' r='{5:0.2f}' />\\n\"\n",
    "        templates[\"line\"] = \"<line stroke='{}' stroke-width='{}px' x1='{}' y1='{}' x2='{}' y2='{}' />\\n\"\n",
    "        templates[\"rectangle\"] = \"<rect fill='{0}' stroke='{1}' stroke-width='{2:0.2f}px'  x='{3:0.2f}' y='{4:0.2f}' width='{5:0.2f}' height='{6:0.2f}' rx='{7:0.2f}' />\\n\"\n",
    "        templates[\"text\"] = \"<text fill='{0}' stroke='{1}' font-size='{2}px' x='{3:0.2f}' y='{4:0.2f}'>{5}</text>\\n\"\n",
    "        templates[\"ellipse\"] = \"<ellipse fill='{0}'  stroke='{1}' stroke-width='{2:0.2f}px' cx='{3:0.2f}' cy='{4:0.2f}' rx='{5:0.2f}' ry='{6:0.2f}' />\\n\"\n",
    "        templates[\"polyline\"] = \"<polyline fill='{}' stroke='{}' stroke-width='{}' points='{}' />\\n\"\n",
    "        return templates\n",
    "\n",
    "    # circle\n",
    "\n",
    "    def circle(self, cx, cy, radius, stroke_width=None):\n",
    "        sw = 1 if stroke_width is None else self.sf*stroke_width\n",
    "        self.__add_to_svg(self.templates[\"circle\"].format(\"none\", \"#7F7F7F\", sw, self.sf*cx, self.sf*cy, self.sf*radius))\n",
    "\n",
    "    def inside_circle(self, cx, cy, radius):\n",
    "        self.__add_to_svg(self.templates[\"circle\"].format(\"#FFFFFF\", \"#000000\", 0, self.sf*cx, self.sf*cy, self.sf*radius))\n",
    "\n",
    "    def outside_circle(self, cx, cy, radius):\n",
    "        self.__add_to_svg(self.templates[\"circle\"].format(\"#000000\", \"#000000\", 0, self.sf*cx, self.sf*cy, self.sf*radius))\n",
    "\n",
    "    def pocket_circle(self, cx, cy, radius):\n",
    "        self.__add_to_svg(self.templates[\"circle\"].format(\"#7F7F7F\", \"#7F7F7F\", 0, self.sf*cx, self.sf*cy, self.sf*radius))\n",
    "\n",
    " # ellipse\n",
    "\n",
    "    def ellipse(self, cx, cy, rx, ry, stroke_width=None):\n",
    "        sw = 1 if stroke_width is None else self.sf*stroke_width\n",
    "        self.__add_to_svg(self.templates[\"ellipse\"].format(\"none\", \"#7F7F7F\", sw, self.sf*cx, self.sf*cy, self.sf*rx, self.sf*ry))\n",
    "\n",
    "    def inside_ellipse(self, cx, cy, rx, ry):\n",
    "        self.__add_to_svg(self.templates[\"ellipse\"].format(\"#FFFFFF\", \"#000000\", 0, self.sf*cx, self.sf*cy, self.sf*rx, self.sf*ry))\n",
    "\n",
    "    def outside_ellipse(self, cx, cy, rx, ry):\n",
    "        self.__add_to_svg(self.templates[\"ellipse\"].format(\"#000000\", \"#000000\", 0, self.sf*cx, self.sf*cy, self.sf*rx, self.sf*ry))\n",
    "\n",
    "    def pocket_ellispe(self, cx, cy, rx, ry):\n",
    "        self.__add_to_svg(self.templates[\"ellipse\"].format(\"#7F7F7F\", \"#7F7F7F\", 0, self.sf*cx, self.sf*cy, self.sf*rx, self.sf*ry))\n",
    "\n",
    "# rectangle\n",
    "\n",
    "    def rectangle(self, x, y, width, height, radius=0, stroke_width=None):\n",
    "        sw = 1 if stroke_width is None else self.sf*stroke_width\n",
    "        self.__add_to_svg(self.templates[\"rectangle\"].format(\"none\", \"#7F7F7F\", sw, self.sf*x, self.sf*y, self.sf*width, self.sf*height, self.sf*radius))\n",
    "\n",
    "    def inside_rectangle(self, x, y, width, height, radius=0):\n",
    "        self.__add_to_svg(self.templates[\"rectangle\"].format(\"#FFFFFF\", \"#000000\", 0, self.sf*x, self.sf*y, self.sf*width, self.sf*height, self.sf*radius))\n",
    "\n",
    "    def outside_rectangle(self, x, y, width, height, radius=0):\n",
    "        self.__add_to_svg(self.templates[\"rectangle\"].format(\"#000000\", \"#000000\", 0, self.sf*x, self.sf*y, self.sf*width, self.sf*height, self.sf*radius))\n",
    "\n",
    "    def pocket_rectangle(self, x, y, width, height, radius=0):\n",
    "        self.__add_to_svg(self.templates[\"rectangle\"].format(\"#7F7F7F\", \"#7F7F7F\", 0, self.sf*x, self.sf*y, self.sf*width, self.sf*height, self.sf*radius))\n",
    "\n",
    "    # line\n",
    "    \n",
    "    def line(self, x1, y1, x2, y2, stroke_width=None):\n",
    "        sw = 1 if stroke_width is None else self.sf*stroke_width\n",
    "        self.__add_to_svg(self.templates[\"line\"].format(\"#7F7F7F\", sw, self.sf*x1, self.sf*y1, self.sf*x2, self.sf*y2))\n",
    "\n",
    "    def guide_line(self, x1, y1, x2, y2):\n",
    "        self.__add_to_svg(self.templates[\"line\"].format(\"#0068FF\", 1, self.sf*x1, self.sf*y1, self.sf*x2, self.sf*y2))\n",
    "\n",
    "    # polyline\n",
    "\n",
    "    def __points(self, x, y):\n",
    "        return \" \".join([f\"{self.sf*x} {self.sf*y}\" for x, y in zip(x, y)])\n",
    "\n",
    "    def polyline(self, x, y, stroke_width=None):\n",
    "        sw = 1 if stroke_width is None else self.sf*stroke_width\n",
    "        self.__add_to_svg(self.templates[\"polyline\"].format(\"none\", \"#7F7F7F\", sw, self.__points(x, y)))\n",
    "\n",
    "    def inside_polyline(self, x, y):\n",
    "        self.__add_to_svg(self.templates[\"polyline\"].format(\"#FFFFFF\", \"#000000\", 0,  self.__points(x, y)))\n",
    "\n",
    "    def outside_polyline(self, x, y):\n",
    "        self.__add_to_svg(self.templates[\"polyline\"].format(\"#000000\", \"#000000\", 0,  self.__points(x, y)))\n",
    "\n",
    "    def pocket_polyline(self, x, y):\n",
    "        self.__add_to_svg(self.templates[\"polyline\"].format(\"#7F7F7F\", \"#7F7F7F\", 0, self.__points(x, y)))\n",
    "       \n",
    "    # text\n",
    "\n",
    "    def annotation(self, x, y, txt):\n",
    "        self.__add_to_svg(self.templates[\"text\"].format(\"#0068FF\", \"#0068FF\", 12, self.sf*x, self.sf*y, txt))\n",
    "\n",
    "    # svg outputs\n",
    "\n",
    "    def save(self, path):\n",
    "        f = open(path, \"w+\")\n",
    "        f.write(str(self))\n",
    "        f.close()\n",
    "\n",
    "    def to_svg(self):\n",
    "        return str(self)\n",
    "\n",
    "    def display(self):\n",
    "        display(SVG(str(self)))\n",
    "\n",
    "    def __str__(self):\n",
    "        prefix = self.templates[\"svg_prefix\"].format(self.sf*self.width, self.sf*self.height, self.sf*self.width, self.sf*self.height)\n",
    "        body = \"    \".join(self.svg_list)\n",
    "        suffix = self.templates[\"svg_suffix\"]\n",
    "        return prefix + body + suffix\n"
   ]
  },
  {
   "cell_type": "markdown",
   "metadata": {
    "id": "ZlQZllcVqJ7P"
   },
   "source": [
    "## \"Kondo\" boxes\n",
    "\n",
    "Small open-top boxes to organize drawers are key to the methods of \"tidying-up\" popularized by Marie Kondo. Suitable boxes can be made quickly from thin sheet goods, like 1/8\" or 3mm plywood, using a router table and 45 degree V cutting bit. The following code adapts this technique to the Shaper Origin."
   ]
  },
  {
   "cell_type": "code",
   "execution_count": 9,
   "metadata": {
    "colab": {
     "base_uri": "https://localhost:8080/",
     "height": 749
    },
    "executionInfo": {
     "elapsed": 10,
     "status": "ok",
     "timestamp": 1632762493334,
     "user": {
      "displayName": "Jeffrey Kantor",
      "photoUrl": "https://lh3.googleusercontent.com/a-/AOh14Gg_n8V7bVINy02QRuRgOoMo11Ri7NKU3OUKdC1bkQ=s64",
      "userId": "09038942003589296665"
     },
     "user_tz": 240
    },
    "id": "aMwyXiKZ0Ek3",
    "outputId": "0fa248d9-7b69-473d-e741-f962821cabb0"
   },
   "outputs": [
    {
     "data": {
      "image/svg+xml": [
       "<svg xmlns=\"http://www.w3.org/2000/svg\" xmlns:xlink=\"http://www.w3.org/1999/xlink\" width=\"648.00\" height=\"504.00\" version=\"1.1\" viewbox=\"0 0 648.00 504.00\">\n",
       "<rect fill=\"#000000\" stroke=\"#000000\" stroke-width=\"0.00px\" x=\"0.00\" y=\"0.00\" width=\"648.00\" height=\"504.00\" rx=\"108.00\"/>\n",
       "    <line stroke=\"#7F7F7F\" stroke-width=\"1px\" x1=\"0\" y1=\"108.0\" x2=\"648.0\" y2=\"108.0\"/>\n",
       "    <line stroke=\"#7F7F7F\" stroke-width=\"1px\" x1=\"0\" y1=\"396.0\" x2=\"648.0\" y2=\"396.0\"/>\n",
       "    <line stroke=\"#7F7F7F\" stroke-width=\"1px\" x1=\"108.0\" y1=\"0\" x2=\"108.0\" y2=\"504.0\"/>\n",
       "    <line stroke=\"#7F7F7F\" stroke-width=\"1px\" x1=\"540.0\" y1=\"0\" x2=\"540.0\" y2=\"504.0\"/>\n",
       "    <text fill=\"#0068FF\" stroke=\"#0068FF\" font-size=\"12px\" x=\"126.00\" y=\"126.00\">1. Protect joints with painter's tape on back side.</text>\n",
       "    <text fill=\"#0068FF\" stroke=\"#0068FF\" font-size=\"12px\" x=\"126.00\" y=\"144.00\">2. Cut lines with 90 deg V bit to material thickness.</text>\n",
       "    <text fill=\"#0068FF\" stroke=\"#0068FF\" font-size=\"12px\" x=\"126.00\" y=\"162.00\">3. Cut out box with 1/8 bit.</text>\n",
       "    <text fill=\"#0068FF\" stroke=\"#0068FF\" font-size=\"12px\" x=\"126.00\" y=\"180.00\">4. Remove corner boxes with X-acto knife, then fold and glue.</text>\n",
       "    <text fill=\"#0068FF\" stroke=\"#0068FF\" font-size=\"12px\" x=\"126.00\" y=\"198.00\">5. For a top, add 2 x material thickness to box length and width.</text>\n",
       "</svg>"
      ],
      "text/plain": [
       "<IPython.core.display.SVG object>"
      ]
     },
     "metadata": {},
     "output_type": "display_data"
    },
    {
     "name": "stdout",
     "output_type": "stream",
     "text": [
      "<svg width='648.00' height='504.00' xmlns='http://www.w3.org/2000/svg' version='1.1' xmlns:xlink='http://www.w3.org/1999/xlink' viewbox = '0 0 648.00 504.00'>\n",
      "<rect fill='#000000' stroke='#000000' stroke-width='0.00px'  x='0.00' y='0.00' width='648.00' height='504.00' rx='108.00' />\n",
      "    <line stroke='#7F7F7F' stroke-width='1px' x1='0' y1='108.0' x2='648.0' y2='108.0' />\n",
      "    <line stroke='#7F7F7F' stroke-width='1px' x1='0' y1='396.0' x2='648.0' y2='396.0' />\n",
      "    <line stroke='#7F7F7F' stroke-width='1px' x1='108.0' y1='0' x2='108.0' y2='504.0' />\n",
      "    <line stroke='#7F7F7F' stroke-width='1px' x1='540.0' y1='0' x2='540.0' y2='504.0' />\n",
      "    <text fill='#0068FF' stroke='#0068FF' font-size='12px' x='126.00' y='126.00'>1. Protect joints with painter's tape on back side.</text>\n",
      "    <text fill='#0068FF' stroke='#0068FF' font-size='12px' x='126.00' y='144.00'>2. Cut lines with 90 deg V bit to material thickness.</text>\n",
      "    <text fill='#0068FF' stroke='#0068FF' font-size='12px' x='126.00' y='162.00'>3. Cut out box with 1/8 bit.</text>\n",
      "    <text fill='#0068FF' stroke='#0068FF' font-size='12px' x='126.00' y='180.00'>4. Remove corner boxes with X-acto knife, then fold and glue.</text>\n",
      "    <text fill='#0068FF' stroke='#0068FF' font-size='12px' x='126.00' y='198.00'>5. For a top, add 2 x material thickness to box length and width.</text>\n",
      "</svg>\n"
     ]
    }
   ],
   "source": [
    "# Kondo box\n",
    "\n",
    "def kondo_box(box_length, box_width, box_depth, units=\"in\"):\n",
    "\n",
    "    # grid dimensions\n",
    "    width = box_length + 2*box_depth\n",
    "    height = box_width + 2*box_depth\n",
    "\n",
    "    # instantiate drawing\n",
    "    dwg = pyShaper(width, height, units)\n",
    "    dwg.outside_rectangle(0, 0, width, height, radius=box_depth)\n",
    "\n",
    "    # router lines\n",
    "    dwg.line(0, box_depth, width, box_depth)\n",
    "    dwg.line(0, height - box_depth, width, height - box_depth)\n",
    "    dwg.line(box_depth, 0, box_depth, height)\n",
    "    dwg.line(width - box_depth, 0, width - box_depth, height)\n",
    "\n",
    "    margin = box_depth + 0.25\n",
    "    dwg.annotation(margin, height/4, \"1. Protect joints with painter's tape on back side.\")\n",
    "    dwg.annotation(margin, height/4 + 0.25, \"2. Cut lines with 90 deg V bit to material thickness.\")\n",
    "    dwg.annotation(margin, height/4 + 0.50, \"3. Cut out box with 1/8 bit.\")\n",
    "    dwg.annotation(margin, height/4 + 0.75, \"4. Remove corner boxes with X-acto knife, then fold and glue.\")\n",
    "    dwg.annotation(margin, height/4 + 1.00, \"5. For a top, add 2 x material thickness to box length and width.\")\n",
    "\n",
    "    return dwg\n",
    "\n",
    "dwg = kondo_box(6, 4, 1.5)\n",
    "dwg.display()\n",
    "print(dwg)\n",
    "dwg.save(\"svg/kondo.svg\")"
   ]
  },
  {
   "cell_type": "markdown",
   "metadata": {
    "id": "wndKtkvslo_4"
   },
   "source": [
    "The following cell implements a multi-sided Kondo box. "
   ]
  },
  {
   "cell_type": "code",
   "execution_count": 8,
   "metadata": {
    "colab": {
     "base_uri": "https://localhost:8080/",
     "height": 1000
    },
    "executionInfo": {
     "elapsed": 113,
     "status": "ok",
     "timestamp": 1632762493439,
     "user": {
      "displayName": "Jeffrey Kantor",
      "photoUrl": "https://lh3.googleusercontent.com/a-/AOh14Gg_n8V7bVINy02QRuRgOoMo11Ri7NKU3OUKdC1bkQ=s64",
      "userId": "09038942003589296665"
     },
     "user_tz": 240
    },
    "id": "9nqkL36c30-m",
    "outputId": "01d6ab59-321d-4136-8aa1-5503b47c4df8"
   },
   "outputs": [
    {
     "data": {
      "image/svg+xml": [
       "<svg xmlns=\"http://www.w3.org/2000/svg\" xmlns:xlink=\"http://www.w3.org/1999/xlink\" width=\"792.00\" height=\"792.00\" version=\"1.1\" viewbox=\"0 0 792.00 792.00\">\n",
       "<polyline fill=\"#000000\" stroke=\"#000000\" stroke-width=\"0\" points=\"777.5307436087194 450.0 633.5307436087194 699.4153162899182 540.0 753.4153162899182 252.00000000000006 753.4153162899183 158.46925639128068 699.4153162899183 14.469256391280624 450.00000000000006 14.469256391280608 342.00000000000006 158.4692563912805 92.58468371008178 251.99999999999983 38.58468371008175 540.0 38.584683710081684 633.5307436087194 92.58468371008163 777.5307436087194 341.9999999999999 777.5307436087194 450.0\"/>\n",
       "    <polyline fill=\"none\" stroke=\"#7F7F7F\" stroke-width=\"1\" points=\"684.0 396.0 540.0 645.4153162899182 252.00000000000006 645.4153162899183 108.0 396.00000000000006 251.9999999999999 146.58468371008175 540.0 146.5846837100817 684.0 395.99999999999994\"/>\n",
       "    <line stroke=\"#7F7F7F\" stroke-width=\"1px\" x1=\"684.0\" y1=\"396.0\" x2=\"777.5307436087194\" y2=\"450.0\"/>\n",
       "    <line stroke=\"#7F7F7F\" stroke-width=\"1px\" x1=\"540.0\" y1=\"645.4153162899182\" x2=\"633.5307436087194\" y2=\"699.4153162899182\"/>\n",
       "    <line stroke=\"#7F7F7F\" stroke-width=\"1px\" x1=\"540.0\" y1=\"645.4153162899182\" x2=\"540.0\" y2=\"753.4153162899182\"/>\n",
       "    <line stroke=\"#7F7F7F\" stroke-width=\"1px\" x1=\"252.00000000000006\" y1=\"645.4153162899183\" x2=\"252.00000000000006\" y2=\"753.4153162899183\"/>\n",
       "    <line stroke=\"#7F7F7F\" stroke-width=\"1px\" x1=\"252.00000000000006\" y1=\"645.4153162899183\" x2=\"158.46925639128068\" y2=\"699.4153162899183\"/>\n",
       "    <line stroke=\"#7F7F7F\" stroke-width=\"1px\" x1=\"108.0\" y1=\"396.00000000000006\" x2=\"14.469256391280624\" y2=\"450.00000000000006\"/>\n",
       "    <line stroke=\"#7F7F7F\" stroke-width=\"1px\" x1=\"108.0\" y1=\"396.00000000000006\" x2=\"14.469256391280608\" y2=\"342.00000000000006\"/>\n",
       "    <line stroke=\"#7F7F7F\" stroke-width=\"1px\" x1=\"251.9999999999999\" y1=\"146.58468371008175\" x2=\"158.4692563912805\" y2=\"92.58468371008178\"/>\n",
       "    <line stroke=\"#7F7F7F\" stroke-width=\"1px\" x1=\"251.9999999999999\" y1=\"146.58468371008175\" x2=\"251.99999999999983\" y2=\"38.58468371008175\"/>\n",
       "    <line stroke=\"#7F7F7F\" stroke-width=\"1px\" x1=\"540.0\" y1=\"146.5846837100817\" x2=\"540.0\" y2=\"38.584683710081684\"/>\n",
       "    <line stroke=\"#7F7F7F\" stroke-width=\"1px\" x1=\"540.0\" y1=\"146.5846837100817\" x2=\"633.5307436087194\" y2=\"92.58468371008163\"/>\n",
       "    <line stroke=\"#7F7F7F\" stroke-width=\"1px\" x1=\"684.0\" y1=\"395.99999999999994\" x2=\"777.5307436087194\" y2=\"341.9999999999999\"/>\n",
       "</svg>"
      ],
      "text/plain": [
       "<IPython.core.display.SVG object>"
      ]
     },
     "metadata": {},
     "output_type": "display_data"
    },
    {
     "name": "stdout",
     "output_type": "stream",
     "text": [
      "<svg width='792.00' height='792.00' xmlns='http://www.w3.org/2000/svg' version='1.1' xmlns:xlink='http://www.w3.org/1999/xlink' viewbox = '0 0 792.00 792.00'>\n",
      "<polyline fill='#000000' stroke='#000000' stroke-width='0' points='777.5307436087194 450.0 633.5307436087194 699.4153162899182 540.0 753.4153162899182 252.00000000000006 753.4153162899183 158.46925639128068 699.4153162899183 14.469256391280624 450.00000000000006 14.469256391280608 342.00000000000006 158.4692563912805 92.58468371008178 251.99999999999983 38.58468371008175 540.0 38.584683710081684 633.5307436087194 92.58468371008163 777.5307436087194 341.9999999999999 777.5307436087194 450.0' />\n",
      "    <polyline fill='none' stroke='#7F7F7F' stroke-width='1' points='684.0 396.0 540.0 645.4153162899182 252.00000000000006 645.4153162899183 108.0 396.00000000000006 251.9999999999999 146.58468371008175 540.0 146.5846837100817 684.0 395.99999999999994' />\n",
      "    <line stroke='#7F7F7F' stroke-width='1px' x1='684.0' y1='396.0' x2='777.5307436087194' y2='450.0' />\n",
      "    <line stroke='#7F7F7F' stroke-width='1px' x1='540.0' y1='645.4153162899182' x2='633.5307436087194' y2='699.4153162899182' />\n",
      "    <line stroke='#7F7F7F' stroke-width='1px' x1='540.0' y1='645.4153162899182' x2='540.0' y2='753.4153162899182' />\n",
      "    <line stroke='#7F7F7F' stroke-width='1px' x1='252.00000000000006' y1='645.4153162899183' x2='252.00000000000006' y2='753.4153162899183' />\n",
      "    <line stroke='#7F7F7F' stroke-width='1px' x1='252.00000000000006' y1='645.4153162899183' x2='158.46925639128068' y2='699.4153162899183' />\n",
      "    <line stroke='#7F7F7F' stroke-width='1px' x1='108.0' y1='396.00000000000006' x2='14.469256391280624' y2='450.00000000000006' />\n",
      "    <line stroke='#7F7F7F' stroke-width='1px' x1='108.0' y1='396.00000000000006' x2='14.469256391280608' y2='342.00000000000006' />\n",
      "    <line stroke='#7F7F7F' stroke-width='1px' x1='251.9999999999999' y1='146.58468371008175' x2='158.4692563912805' y2='92.58468371008178' />\n",
      "    <line stroke='#7F7F7F' stroke-width='1px' x1='251.9999999999999' y1='146.58468371008175' x2='251.99999999999983' y2='38.58468371008175' />\n",
      "    <line stroke='#7F7F7F' stroke-width='1px' x1='540.0' y1='146.5846837100817' x2='540.0' y2='38.584683710081684' />\n",
      "    <line stroke='#7F7F7F' stroke-width='1px' x1='540.0' y1='146.5846837100817' x2='633.5307436087194' y2='92.58468371008163' />\n",
      "    <line stroke='#7F7F7F' stroke-width='1px' x1='684.0' y1='395.99999999999994' x2='777.5307436087194' y2='341.9999999999999' />\n",
      "</svg>\n"
     ]
    }
   ],
   "source": [
    "import numpy as np\n",
    "\n",
    "# multi-sided box\n",
    "\n",
    "# parameters\n",
    "n = 6\n",
    "box_diameter = 8\n",
    "box_depth = 1.5\n",
    "\n",
    "# grid dimensions\n",
    "width = box_diameter + 2*box_depth\n",
    "height = width\n",
    "\n",
    "# create drawing\n",
    "dwg = pyShaper(width, height, \"in\")\n",
    "\n",
    "# box sides\n",
    "x = width/2 + box_diameter*np.array([np.cos(2*np.pi*k/n) for k in range(n+1)])/2\n",
    "y = height/2 + box_diameter*np.array([np.sin(2*np.pi*k/n) for k in range(n+1)])/2\n",
    "a = [2*np.pi*(k+0.5)/n for k in range(n)]\n",
    "dx = [box_depth*np.cos(a[k]) for k in range(n)]\n",
    "dy = [box_depth*np.sin(a[k]) for k in range(n)]\n",
    "      \n",
    "xx = []\n",
    "yy = []\n",
    "for k in range(n):\n",
    "    xx += [x[k] + dx[k], x[k+1] + dx[k]]\n",
    "    yy += [y[k] + dy[k], y[k+1] + dy[k]]\n",
    "xx.append(xx[0])\n",
    "yy.append(yy[0])\n",
    "\n",
    "dwg.outside_polyline(xx, yy)\n",
    "dwg.polyline(x, y)\n",
    "for k in range(n):\n",
    "    dwg.line(x[k], y[k], x[k] + dx[k], y[k] + dy[k])\n",
    "    dwg.line(x[k+1], y[k+1], x[k+1] + dx[k], y[k+1] + dy[k])\n",
    "\n",
    "dwg.display()\n",
    "print(dwg)\n",
    "dwg.save(\"svg/hexagon_box.svg\")"
   ]
  },
  {
   "cell_type": "markdown",
   "metadata": {
    "id": "Pa7TxXyRfARx"
   },
   "source": [
    "## Shaper Workstation Shelf\n",
    "\n",
    "Dimensions from page 26 of workstation manual.\n",
    "\n",
    "https://assets.shapertools.com/manual/workstation/B000009-A-shaper_workstation_product_manual.pdf"
   ]
  },
  {
   "cell_type": "code",
   "execution_count": 14,
   "metadata": {
    "colab": {
     "base_uri": "https://localhost:8080/",
     "height": 605
    },
    "executionInfo": {
     "elapsed": 12,
     "status": "ok",
     "timestamp": 1632762493440,
     "user": {
      "displayName": "Jeffrey Kantor",
      "photoUrl": "https://lh3.googleusercontent.com/a-/AOh14Gg_n8V7bVINy02QRuRgOoMo11Ri7NKU3OUKdC1bkQ=s64",
      "userId": "09038942003589296665"
     },
     "user_tz": 240
    },
    "id": "trtUA0P8jpcX",
    "outputId": "01077e69-10f9-4cfd-954d-b10ed4032374"
   },
   "outputs": [
    {
     "name": "stdout",
     "output_type": "stream",
     "text": [
      "<svg width='846.14' height='325.98' xmlns='http://www.w3.org/2000/svg' version='1.1' xmlns:xlink='http://www.w3.org/1999/xlink' viewbox = '0 0 846.14 325.98'>\n",
      "<rect fill='#000000' stroke='#000000' stroke-width='0.00px'  x='0.00' y='0.00' width='846.14' height='325.98' rx='17.01' />\n",
      "    <circle fill='#7F7F7F' stroke='#7F7F7F' stroke-width='0.00px' cx='82.91' cy='32.60' r='18.43' />\n",
      "    <circle fill='#FFFFFF' stroke='#000000' stroke-width='0.00px' cx='82.91' cy='32.60' r='9.21' />\n",
      "    <circle fill='#7F7F7F' stroke='#7F7F7F' stroke-width='0.00px' cx='82.91' cy='284.88' r='18.43' />\n",
      "    <circle fill='#FFFFFF' stroke='#000000' stroke-width='0.00px' cx='82.91' cy='284.88' r='9.21' />\n",
      "    <circle fill='#7F7F7F' stroke='#7F7F7F' stroke-width='0.00px' cx='763.23' cy='32.60' r='18.43' />\n",
      "    <circle fill='#FFFFFF' stroke='#000000' stroke-width='0.00px' cx='763.23' cy='32.60' r='9.21' />\n",
      "    <circle fill='#7F7F7F' stroke='#7F7F7F' stroke-width='0.00px' cx='763.23' cy='284.88' r='18.43' />\n",
      "    <circle fill='#FFFFFF' stroke='#000000' stroke-width='0.00px' cx='763.23' cy='284.88' r='9.21' />\n",
      "    <text fill='#0068FF' stroke='#0068FF' font-size='12px' x='105.77' y='81.50'>through hole diameter = 6.5mm</text>\n",
      "    <text fill='#0068FF' stroke='#0068FF' font-size='12px' x='105.77' y='64.49'>pocket hole diameter = 13mm</text>\n",
      "    <text fill='#0068FF' stroke='#0068FF' font-size='12px' x='105.77' y='47.48'>pocket hole depth = 14mm</text>\n",
      "</svg>\n"
     ]
    },
    {
     "data": {
      "image/svg+xml": [
       "<svg xmlns=\"http://www.w3.org/2000/svg\" xmlns:xlink=\"http://www.w3.org/1999/xlink\" width=\"846.14\" height=\"325.98\" version=\"1.1\" viewbox=\"0 0 846.14 325.98\">\n",
       "<rect fill=\"#000000\" stroke=\"#000000\" stroke-width=\"0.00px\" x=\"0.00\" y=\"0.00\" width=\"846.14\" height=\"325.98\" rx=\"17.01\"/>\n",
       "    <circle fill=\"#7F7F7F\" stroke=\"#7F7F7F\" stroke-width=\"0.00px\" cx=\"82.91\" cy=\"32.60\" r=\"18.43\"/>\n",
       "    <circle fill=\"#FFFFFF\" stroke=\"#000000\" stroke-width=\"0.00px\" cx=\"82.91\" cy=\"32.60\" r=\"9.21\"/>\n",
       "    <circle fill=\"#7F7F7F\" stroke=\"#7F7F7F\" stroke-width=\"0.00px\" cx=\"82.91\" cy=\"284.88\" r=\"18.43\"/>\n",
       "    <circle fill=\"#FFFFFF\" stroke=\"#000000\" stroke-width=\"0.00px\" cx=\"82.91\" cy=\"284.88\" r=\"9.21\"/>\n",
       "    <circle fill=\"#7F7F7F\" stroke=\"#7F7F7F\" stroke-width=\"0.00px\" cx=\"763.23\" cy=\"32.60\" r=\"18.43\"/>\n",
       "    <circle fill=\"#FFFFFF\" stroke=\"#000000\" stroke-width=\"0.00px\" cx=\"763.23\" cy=\"32.60\" r=\"9.21\"/>\n",
       "    <circle fill=\"#7F7F7F\" stroke=\"#7F7F7F\" stroke-width=\"0.00px\" cx=\"763.23\" cy=\"284.88\" r=\"18.43\"/>\n",
       "    <circle fill=\"#FFFFFF\" stroke=\"#000000\" stroke-width=\"0.00px\" cx=\"763.23\" cy=\"284.88\" r=\"9.21\"/>\n",
       "    <text fill=\"#0068FF\" stroke=\"#0068FF\" font-size=\"12px\" x=\"105.77\" y=\"81.50\">through hole diameter = 6.5mm</text>\n",
       "    <text fill=\"#0068FF\" stroke=\"#0068FF\" font-size=\"12px\" x=\"105.77\" y=\"64.49\">pocket hole diameter = 13mm</text>\n",
       "    <text fill=\"#0068FF\" stroke=\"#0068FF\" font-size=\"12px\" x=\"105.77\" y=\"47.48\">pocket hole depth = 14mm</text>\n",
       "</svg>"
      ],
      "text/plain": [
       "<IPython.core.display.SVG object>"
      ]
     },
     "metadata": {},
     "output_type": "display_data"
    }
   ],
   "source": [
    "# shelf dimensions (mm)\n",
    "width = 298.5\n",
    "height = 115\n",
    "radius = 6\n",
    "\n",
    "# screw hole pattern\n",
    "dx = 240\n",
    "dy = 89\n",
    "y_offset = 11.5\n",
    "\n",
    "# create drawing instance\n",
    "dwg = pyShaper(width, height, \"mm\")\n",
    "\n",
    "# create shelf\n",
    "dwg.outside_rectangle(0, 0, width, height, radius)\n",
    "\n",
    "# add screw holes\n",
    "for xc in [width/2 - dx/2, width/2 + dx/2]:\n",
    "    for yc in [y_offset, y_offset + dy]:\n",
    "        dwg.pocket_circle(xc, yc, 13/2)\n",
    "        dwg.inside_circle(xc, yc, 6.5/2)\n",
    "\n",
    "# add annotations\n",
    "dwg.annotation(width/8, height/4, \"through hole diameter = 6.5mm\")\n",
    "dwg.annotation(width/8, height/4 - 6, \"pocket hole diameter = 13mm\")\n",
    "dwg.annotation(width/8, height/4 - 12, \"pocket hole depth = 14mm\")\n",
    "\n",
    "# print and display svg file\n",
    "print(dwg)\n",
    "dwg.display()\n",
    "dwg.save(\"svg/workstation_shelf.svg\")"
   ]
  },
  {
   "cell_type": "markdown",
   "metadata": {
    "id": "k9Ec4jB4J89m"
   },
   "source": [
    "## Fancy Shaper Workstation Shelf\n",
    "\n",
    "Sometimes you need a bigger shelf on the Shaper Workstation. This one is bigger, and includes holes for 20mm dogs."
   ]
  },
  {
   "cell_type": "code",
   "execution_count": 15,
   "metadata": {
    "colab": {
     "base_uri": "https://localhost:8080/",
     "height": 965
    },
    "executionInfo": {
     "elapsed": 9,
     "status": "ok",
     "timestamp": 1632762493441,
     "user": {
      "displayName": "Jeffrey Kantor",
      "photoUrl": "https://lh3.googleusercontent.com/a-/AOh14Gg_n8V7bVINy02QRuRgOoMo11Ri7NKU3OUKdC1bkQ=s64",
      "userId": "09038942003589296665"
     },
     "user_tz": 240
    },
    "id": "ahtDyQI9KAH_",
    "outputId": "21630c62-9df3-4bfa-ce8e-b0073d8d1532"
   },
   "outputs": [
    {
     "data": {
      "image/svg+xml": [
       "<svg xmlns=\"http://www.w3.org/2000/svg\" xmlns:xlink=\"http://www.w3.org/1999/xlink\" width=\"1417.32\" height=\"566.93\" version=\"1.1\" viewbox=\"0 0 1417.32 566.93\">\n",
       "<rect fill=\"#000000\" stroke=\"#000000\" stroke-width=\"0.00px\" x=\"0.00\" y=\"0.00\" width=\"1417.32\" height=\"566.93\" rx=\"17.01\"/>\n",
       "    <circle fill=\"#7F7F7F\" stroke=\"#7F7F7F\" stroke-width=\"0.00px\" cx=\"368.50\" cy=\"32.60\" r=\"18.43\"/>\n",
       "    <circle fill=\"#FFFFFF\" stroke=\"#000000\" stroke-width=\"0.00px\" cx=\"368.50\" cy=\"32.60\" r=\"9.21\"/>\n",
       "    <circle fill=\"#7F7F7F\" stroke=\"#7F7F7F\" stroke-width=\"0.00px\" cx=\"368.50\" cy=\"284.88\" r=\"18.43\"/>\n",
       "    <circle fill=\"#FFFFFF\" stroke=\"#000000\" stroke-width=\"0.00px\" cx=\"368.50\" cy=\"284.88\" r=\"9.21\"/>\n",
       "    <circle fill=\"#7F7F7F\" stroke=\"#7F7F7F\" stroke-width=\"0.00px\" cx=\"1048.82\" cy=\"32.60\" r=\"18.43\"/>\n",
       "    <circle fill=\"#FFFFFF\" stroke=\"#000000\" stroke-width=\"0.00px\" cx=\"1048.82\" cy=\"32.60\" r=\"9.21\"/>\n",
       "    <circle fill=\"#7F7F7F\" stroke=\"#7F7F7F\" stroke-width=\"0.00px\" cx=\"1048.82\" cy=\"284.88\" r=\"18.43\"/>\n",
       "    <circle fill=\"#FFFFFF\" stroke=\"#000000\" stroke-width=\"0.00px\" cx=\"1048.82\" cy=\"284.88\" r=\"9.21\"/>\n",
       "    <circle fill=\"#FFFFFF\" stroke=\"#000000\" stroke-width=\"0.00px\" cx=\"164.41\" cy=\"175.75\" r=\"28.13\"/>\n",
       "    <circle fill=\"#FFFFFF\" stroke=\"#000000\" stroke-width=\"0.00px\" cx=\"164.41\" cy=\"447.87\" r=\"28.13\"/>\n",
       "    <circle fill=\"#FFFFFF\" stroke=\"#000000\" stroke-width=\"0.00px\" cx=\"436.54\" cy=\"175.75\" r=\"28.13\"/>\n",
       "    <circle fill=\"#FFFFFF\" stroke=\"#000000\" stroke-width=\"0.00px\" cx=\"436.54\" cy=\"447.87\" r=\"28.13\"/>\n",
       "    <circle fill=\"#FFFFFF\" stroke=\"#000000\" stroke-width=\"0.00px\" cx=\"708.66\" cy=\"175.75\" r=\"28.13\"/>\n",
       "    <circle fill=\"#FFFFFF\" stroke=\"#000000\" stroke-width=\"0.00px\" cx=\"708.66\" cy=\"447.87\" r=\"28.13\"/>\n",
       "    <circle fill=\"#FFFFFF\" stroke=\"#000000\" stroke-width=\"0.00px\" cx=\"980.79\" cy=\"175.75\" r=\"28.13\"/>\n",
       "    <circle fill=\"#FFFFFF\" stroke=\"#000000\" stroke-width=\"0.00px\" cx=\"980.79\" cy=\"447.87\" r=\"28.13\"/>\n",
       "    <circle fill=\"#FFFFFF\" stroke=\"#000000\" stroke-width=\"0.00px\" cx=\"1252.91\" cy=\"175.75\" r=\"28.13\"/>\n",
       "    <circle fill=\"#FFFFFF\" stroke=\"#000000\" stroke-width=\"0.00px\" cx=\"1252.91\" cy=\"447.87\" r=\"28.13\"/>\n",
       "</svg>"
      ],
      "text/plain": [
       "<IPython.core.display.SVG object>"
      ]
     },
     "metadata": {},
     "output_type": "display_data"
    },
    {
     "name": "stdout",
     "output_type": "stream",
     "text": [
      "<svg width='1417.32' height='566.93' xmlns='http://www.w3.org/2000/svg' version='1.1' xmlns:xlink='http://www.w3.org/1999/xlink' viewbox = '0 0 1417.32 566.93'>\n",
      "<rect fill='#000000' stroke='#000000' stroke-width='0.00px'  x='0.00' y='0.00' width='1417.32' height='566.93' rx='17.01' />\n",
      "    <circle fill='#7F7F7F' stroke='#7F7F7F' stroke-width='0.00px' cx='368.50' cy='32.60' r='18.43' />\n",
      "    <circle fill='#FFFFFF' stroke='#000000' stroke-width='0.00px' cx='368.50' cy='32.60' r='9.21' />\n",
      "    <circle fill='#7F7F7F' stroke='#7F7F7F' stroke-width='0.00px' cx='368.50' cy='284.88' r='18.43' />\n",
      "    <circle fill='#FFFFFF' stroke='#000000' stroke-width='0.00px' cx='368.50' cy='284.88' r='9.21' />\n",
      "    <circle fill='#7F7F7F' stroke='#7F7F7F' stroke-width='0.00px' cx='1048.82' cy='32.60' r='18.43' />\n",
      "    <circle fill='#FFFFFF' stroke='#000000' stroke-width='0.00px' cx='1048.82' cy='32.60' r='9.21' />\n",
      "    <circle fill='#7F7F7F' stroke='#7F7F7F' stroke-width='0.00px' cx='1048.82' cy='284.88' r='18.43' />\n",
      "    <circle fill='#FFFFFF' stroke='#000000' stroke-width='0.00px' cx='1048.82' cy='284.88' r='9.21' />\n",
      "    <circle fill='#FFFFFF' stroke='#000000' stroke-width='0.00px' cx='164.41' cy='175.75' r='28.13' />\n",
      "    <circle fill='#FFFFFF' stroke='#000000' stroke-width='0.00px' cx='164.41' cy='447.87' r='28.13' />\n",
      "    <circle fill='#FFFFFF' stroke='#000000' stroke-width='0.00px' cx='436.54' cy='175.75' r='28.13' />\n",
      "    <circle fill='#FFFFFF' stroke='#000000' stroke-width='0.00px' cx='436.54' cy='447.87' r='28.13' />\n",
      "    <circle fill='#FFFFFF' stroke='#000000' stroke-width='0.00px' cx='708.66' cy='175.75' r='28.13' />\n",
      "    <circle fill='#FFFFFF' stroke='#000000' stroke-width='0.00px' cx='708.66' cy='447.87' r='28.13' />\n",
      "    <circle fill='#FFFFFF' stroke='#000000' stroke-width='0.00px' cx='980.79' cy='175.75' r='28.13' />\n",
      "    <circle fill='#FFFFFF' stroke='#000000' stroke-width='0.00px' cx='980.79' cy='447.87' r='28.13' />\n",
      "    <circle fill='#FFFFFF' stroke='#000000' stroke-width='0.00px' cx='1252.91' cy='175.75' r='28.13' />\n",
      "    <circle fill='#FFFFFF' stroke='#000000' stroke-width='0.00px' cx='1252.91' cy='447.87' r='28.13' />\n",
      "</svg>\n"
     ]
    }
   ],
   "source": [
    "# shelf dimensions (mm)\n",
    "width = 500\n",
    "height = 200\n",
    "corner = 6\n",
    "\n",
    "# place screw holes\n",
    "dx = 240\n",
    "dy = 89\n",
    "\n",
    "# holes\n",
    "hole_diameter = 19.85\n",
    "hole_spacing = 96\n",
    "hole_offset = 10\n",
    "J = 5\n",
    "K = 2\n",
    "\n",
    "# center of screw whole pattern\n",
    "xc = width/2\n",
    "yc = 11.5 + dy/2\n",
    "\n",
    "def place_screw_hole(x, y):\n",
    "    d.pocket_circle(x, y, 13/2)\n",
    "    d.inside_circle(x, y, 6.5/2)\n",
    "\n",
    "d = pyShaper(width, height,  \"mm\")\n",
    "d.outside_rectangle(0, 0, width, height, corner)\n",
    "place_screw_hole(xc - dx/2, yc - dy/2)\n",
    "place_screw_hole(xc - dx/2, yc + dy/2)\n",
    "place_screw_hole(xc + dx/2, yc - dy/2)\n",
    "place_screw_hole(xc + dx/2, yc + dy/2)\n",
    "\n",
    "# place holes\n",
    "xoffset = (width - (J-1)*hole_spacing)/2\n",
    "yoffset = hole_offset + (height - (K-1)*hole_spacing)/2\n",
    "for j in range(J):\n",
    "    for k in range(K):\n",
    "        xh = xoffset + j*hole_spacing\n",
    "        yh = yoffset + k*hole_spacing\n",
    "        d.inside_circle(xh, yh, hole_diameter/2)\n",
    "\n",
    "# set number of pixels per geometry unit\n",
    "d.display()\n",
    "d.save(\"svg/workstation_shelf_fancy.svg\")\n",
    "print(d)"
   ]
  },
  {
   "cell_type": "markdown",
   "metadata": {
    "id": "Mrafujo2-Hf7"
   },
   "source": [
    "## MFT Table"
   ]
  },
  {
   "cell_type": "code",
   "execution_count": 10,
   "metadata": {
    "colab": {
     "base_uri": "https://localhost:8080/",
     "height": 1000
    },
    "executionInfo": {
     "elapsed": 9,
     "status": "ok",
     "timestamp": 1632762493673,
     "user": {
      "displayName": "Jeffrey Kantor",
      "photoUrl": "https://lh3.googleusercontent.com/a-/AOh14Gg_n8V7bVINy02QRuRgOoMo11Ri7NKU3OUKdC1bkQ=s64",
      "userId": "09038942003589296665"
     },
     "user_tz": 240
    },
    "id": "RmEZCGAL9UyY",
    "outputId": "588e04e8-ec7a-4b0e-9ad3-e520ac276b8e"
   },
   "outputs": [
    {
     "data": {
      "image/svg+xml": [
       "<svg xmlns=\"http://www.w3.org/2000/svg\" xmlns:xlink=\"http://www.w3.org/1999/xlink\" width=\"3123.78\" height=\"2035.28\" version=\"1.1\" viewbox=\"0 0 3123.78 2035.28\">\n",
       "<rect fill=\"#000000\" stroke=\"#000000\" stroke-width=\"0.00px\" x=\"0.00\" y=\"0.00\" width=\"3123.78\" height=\"2035.28\" rx=\"22.68\"/>\n",
       "    <circle fill=\"#FFFFFF\" stroke=\"#000000\" stroke-width=\"0.00px\" cx=\"201.26\" cy=\"201.26\" r=\"28.13\"/>\n",
       "    <circle fill=\"#FFFFFF\" stroke=\"#000000\" stroke-width=\"0.00px\" cx=\"201.26\" cy=\"473.39\" r=\"28.13\"/>\n",
       "    <circle fill=\"#FFFFFF\" stroke=\"#000000\" stroke-width=\"0.00px\" cx=\"201.26\" cy=\"745.51\" r=\"28.13\"/>\n",
       "    <circle fill=\"#FFFFFF\" stroke=\"#000000\" stroke-width=\"0.00px\" cx=\"201.26\" cy=\"1017.64\" r=\"28.13\"/>\n",
       "    <circle fill=\"#FFFFFF\" stroke=\"#000000\" stroke-width=\"0.00px\" cx=\"201.26\" cy=\"1289.76\" r=\"28.13\"/>\n",
       "    <circle fill=\"#FFFFFF\" stroke=\"#000000\" stroke-width=\"0.00px\" cx=\"201.26\" cy=\"1561.89\" r=\"28.13\"/>\n",
       "    <circle fill=\"#FFFFFF\" stroke=\"#000000\" stroke-width=\"0.00px\" cx=\"201.26\" cy=\"1834.02\" r=\"28.13\"/>\n",
       "    <circle fill=\"#FFFFFF\" stroke=\"#000000\" stroke-width=\"0.00px\" cx=\"473.39\" cy=\"201.26\" r=\"28.13\"/>\n",
       "    <circle fill=\"#FFFFFF\" stroke=\"#000000\" stroke-width=\"0.00px\" cx=\"473.39\" cy=\"473.39\" r=\"28.13\"/>\n",
       "    <circle fill=\"#FFFFFF\" stroke=\"#000000\" stroke-width=\"0.00px\" cx=\"473.39\" cy=\"745.51\" r=\"28.13\"/>\n",
       "    <circle fill=\"#FFFFFF\" stroke=\"#000000\" stroke-width=\"0.00px\" cx=\"473.39\" cy=\"1017.64\" r=\"28.13\"/>\n",
       "    <circle fill=\"#FFFFFF\" stroke=\"#000000\" stroke-width=\"0.00px\" cx=\"473.39\" cy=\"1289.76\" r=\"28.13\"/>\n",
       "    <circle fill=\"#FFFFFF\" stroke=\"#000000\" stroke-width=\"0.00px\" cx=\"473.39\" cy=\"1561.89\" r=\"28.13\"/>\n",
       "    <circle fill=\"#FFFFFF\" stroke=\"#000000\" stroke-width=\"0.00px\" cx=\"473.39\" cy=\"1834.02\" r=\"28.13\"/>\n",
       "    <circle fill=\"#FFFFFF\" stroke=\"#000000\" stroke-width=\"0.00px\" cx=\"745.51\" cy=\"201.26\" r=\"28.13\"/>\n",
       "    <circle fill=\"#FFFFFF\" stroke=\"#000000\" stroke-width=\"0.00px\" cx=\"745.51\" cy=\"473.39\" r=\"28.13\"/>\n",
       "    <circle fill=\"#FFFFFF\" stroke=\"#000000\" stroke-width=\"0.00px\" cx=\"745.51\" cy=\"745.51\" r=\"28.13\"/>\n",
       "    <circle fill=\"#FFFFFF\" stroke=\"#000000\" stroke-width=\"0.00px\" cx=\"745.51\" cy=\"1017.64\" r=\"28.13\"/>\n",
       "    <circle fill=\"#FFFFFF\" stroke=\"#000000\" stroke-width=\"0.00px\" cx=\"745.51\" cy=\"1289.76\" r=\"28.13\"/>\n",
       "    <circle fill=\"#FFFFFF\" stroke=\"#000000\" stroke-width=\"0.00px\" cx=\"745.51\" cy=\"1561.89\" r=\"28.13\"/>\n",
       "    <circle fill=\"#FFFFFF\" stroke=\"#000000\" stroke-width=\"0.00px\" cx=\"745.51\" cy=\"1834.02\" r=\"28.13\"/>\n",
       "    <circle fill=\"#FFFFFF\" stroke=\"#000000\" stroke-width=\"0.00px\" cx=\"1017.64\" cy=\"201.26\" r=\"28.13\"/>\n",
       "    <circle fill=\"#FFFFFF\" stroke=\"#000000\" stroke-width=\"0.00px\" cx=\"1017.64\" cy=\"473.39\" r=\"28.13\"/>\n",
       "    <circle fill=\"#FFFFFF\" stroke=\"#000000\" stroke-width=\"0.00px\" cx=\"1017.64\" cy=\"745.51\" r=\"28.13\"/>\n",
       "    <circle fill=\"#FFFFFF\" stroke=\"#000000\" stroke-width=\"0.00px\" cx=\"1017.64\" cy=\"1017.64\" r=\"28.13\"/>\n",
       "    <circle fill=\"#FFFFFF\" stroke=\"#000000\" stroke-width=\"0.00px\" cx=\"1017.64\" cy=\"1289.76\" r=\"28.13\"/>\n",
       "    <circle fill=\"#FFFFFF\" stroke=\"#000000\" stroke-width=\"0.00px\" cx=\"1017.64\" cy=\"1561.89\" r=\"28.13\"/>\n",
       "    <circle fill=\"#FFFFFF\" stroke=\"#000000\" stroke-width=\"0.00px\" cx=\"1017.64\" cy=\"1834.02\" r=\"28.13\"/>\n",
       "    <circle fill=\"#FFFFFF\" stroke=\"#000000\" stroke-width=\"0.00px\" cx=\"1289.76\" cy=\"201.26\" r=\"28.13\"/>\n",
       "    <circle fill=\"#FFFFFF\" stroke=\"#000000\" stroke-width=\"0.00px\" cx=\"1289.76\" cy=\"473.39\" r=\"28.13\"/>\n",
       "    <circle fill=\"#FFFFFF\" stroke=\"#000000\" stroke-width=\"0.00px\" cx=\"1289.76\" cy=\"745.51\" r=\"28.13\"/>\n",
       "    <circle fill=\"#FFFFFF\" stroke=\"#000000\" stroke-width=\"0.00px\" cx=\"1289.76\" cy=\"1017.64\" r=\"28.13\"/>\n",
       "    <circle fill=\"#FFFFFF\" stroke=\"#000000\" stroke-width=\"0.00px\" cx=\"1289.76\" cy=\"1289.76\" r=\"28.13\"/>\n",
       "    <circle fill=\"#FFFFFF\" stroke=\"#000000\" stroke-width=\"0.00px\" cx=\"1289.76\" cy=\"1561.89\" r=\"28.13\"/>\n",
       "    <circle fill=\"#FFFFFF\" stroke=\"#000000\" stroke-width=\"0.00px\" cx=\"1289.76\" cy=\"1834.02\" r=\"28.13\"/>\n",
       "    <circle fill=\"#FFFFFF\" stroke=\"#000000\" stroke-width=\"0.00px\" cx=\"1561.89\" cy=\"201.26\" r=\"28.13\"/>\n",
       "    <circle fill=\"#FFFFFF\" stroke=\"#000000\" stroke-width=\"0.00px\" cx=\"1561.89\" cy=\"473.39\" r=\"28.13\"/>\n",
       "    <circle fill=\"#FFFFFF\" stroke=\"#000000\" stroke-width=\"0.00px\" cx=\"1561.89\" cy=\"745.51\" r=\"28.13\"/>\n",
       "    <circle fill=\"#FFFFFF\" stroke=\"#000000\" stroke-width=\"0.00px\" cx=\"1561.89\" cy=\"1017.64\" r=\"28.13\"/>\n",
       "    <circle fill=\"#FFFFFF\" stroke=\"#000000\" stroke-width=\"0.00px\" cx=\"1561.89\" cy=\"1289.76\" r=\"28.13\"/>\n",
       "    <circle fill=\"#FFFFFF\" stroke=\"#000000\" stroke-width=\"0.00px\" cx=\"1561.89\" cy=\"1561.89\" r=\"28.13\"/>\n",
       "    <circle fill=\"#FFFFFF\" stroke=\"#000000\" stroke-width=\"0.00px\" cx=\"1561.89\" cy=\"1834.02\" r=\"28.13\"/>\n",
       "    <circle fill=\"#FFFFFF\" stroke=\"#000000\" stroke-width=\"0.00px\" cx=\"1834.02\" cy=\"201.26\" r=\"28.13\"/>\n",
       "    <circle fill=\"#FFFFFF\" stroke=\"#000000\" stroke-width=\"0.00px\" cx=\"1834.02\" cy=\"473.39\" r=\"28.13\"/>\n",
       "    <circle fill=\"#FFFFFF\" stroke=\"#000000\" stroke-width=\"0.00px\" cx=\"1834.02\" cy=\"745.51\" r=\"28.13\"/>\n",
       "    <circle fill=\"#FFFFFF\" stroke=\"#000000\" stroke-width=\"0.00px\" cx=\"1834.02\" cy=\"1017.64\" r=\"28.13\"/>\n",
       "    <circle fill=\"#FFFFFF\" stroke=\"#000000\" stroke-width=\"0.00px\" cx=\"1834.02\" cy=\"1289.76\" r=\"28.13\"/>\n",
       "    <circle fill=\"#FFFFFF\" stroke=\"#000000\" stroke-width=\"0.00px\" cx=\"1834.02\" cy=\"1561.89\" r=\"28.13\"/>\n",
       "    <circle fill=\"#FFFFFF\" stroke=\"#000000\" stroke-width=\"0.00px\" cx=\"1834.02\" cy=\"1834.02\" r=\"28.13\"/>\n",
       "    <circle fill=\"#FFFFFF\" stroke=\"#000000\" stroke-width=\"0.00px\" cx=\"2106.14\" cy=\"201.26\" r=\"28.13\"/>\n",
       "    <circle fill=\"#FFFFFF\" stroke=\"#000000\" stroke-width=\"0.00px\" cx=\"2106.14\" cy=\"473.39\" r=\"28.13\"/>\n",
       "    <circle fill=\"#FFFFFF\" stroke=\"#000000\" stroke-width=\"0.00px\" cx=\"2106.14\" cy=\"745.51\" r=\"28.13\"/>\n",
       "    <circle fill=\"#FFFFFF\" stroke=\"#000000\" stroke-width=\"0.00px\" cx=\"2106.14\" cy=\"1017.64\" r=\"28.13\"/>\n",
       "    <circle fill=\"#FFFFFF\" stroke=\"#000000\" stroke-width=\"0.00px\" cx=\"2106.14\" cy=\"1289.76\" r=\"28.13\"/>\n",
       "    <circle fill=\"#FFFFFF\" stroke=\"#000000\" stroke-width=\"0.00px\" cx=\"2106.14\" cy=\"1561.89\" r=\"28.13\"/>\n",
       "    <circle fill=\"#FFFFFF\" stroke=\"#000000\" stroke-width=\"0.00px\" cx=\"2106.14\" cy=\"1834.02\" r=\"28.13\"/>\n",
       "    <circle fill=\"#FFFFFF\" stroke=\"#000000\" stroke-width=\"0.00px\" cx=\"2378.27\" cy=\"201.26\" r=\"28.13\"/>\n",
       "    <circle fill=\"#FFFFFF\" stroke=\"#000000\" stroke-width=\"0.00px\" cx=\"2378.27\" cy=\"473.39\" r=\"28.13\"/>\n",
       "    <circle fill=\"#FFFFFF\" stroke=\"#000000\" stroke-width=\"0.00px\" cx=\"2378.27\" cy=\"745.51\" r=\"28.13\"/>\n",
       "    <circle fill=\"#FFFFFF\" stroke=\"#000000\" stroke-width=\"0.00px\" cx=\"2378.27\" cy=\"1017.64\" r=\"28.13\"/>\n",
       "    <circle fill=\"#FFFFFF\" stroke=\"#000000\" stroke-width=\"0.00px\" cx=\"2378.27\" cy=\"1289.76\" r=\"28.13\"/>\n",
       "    <circle fill=\"#FFFFFF\" stroke=\"#000000\" stroke-width=\"0.00px\" cx=\"2378.27\" cy=\"1561.89\" r=\"28.13\"/>\n",
       "    <circle fill=\"#FFFFFF\" stroke=\"#000000\" stroke-width=\"0.00px\" cx=\"2378.27\" cy=\"1834.02\" r=\"28.13\"/>\n",
       "    <circle fill=\"#FFFFFF\" stroke=\"#000000\" stroke-width=\"0.00px\" cx=\"2650.39\" cy=\"201.26\" r=\"28.13\"/>\n",
       "    <circle fill=\"#FFFFFF\" stroke=\"#000000\" stroke-width=\"0.00px\" cx=\"2650.39\" cy=\"473.39\" r=\"28.13\"/>\n",
       "    <circle fill=\"#FFFFFF\" stroke=\"#000000\" stroke-width=\"0.00px\" cx=\"2650.39\" cy=\"745.51\" r=\"28.13\"/>\n",
       "    <circle fill=\"#FFFFFF\" stroke=\"#000000\" stroke-width=\"0.00px\" cx=\"2650.39\" cy=\"1017.64\" r=\"28.13\"/>\n",
       "    <circle fill=\"#FFFFFF\" stroke=\"#000000\" stroke-width=\"0.00px\" cx=\"2650.39\" cy=\"1289.76\" r=\"28.13\"/>\n",
       "    <circle fill=\"#FFFFFF\" stroke=\"#000000\" stroke-width=\"0.00px\" cx=\"2650.39\" cy=\"1561.89\" r=\"28.13\"/>\n",
       "    <circle fill=\"#FFFFFF\" stroke=\"#000000\" stroke-width=\"0.00px\" cx=\"2650.39\" cy=\"1834.02\" r=\"28.13\"/>\n",
       "    <circle fill=\"#FFFFFF\" stroke=\"#000000\" stroke-width=\"0.00px\" cx=\"2922.52\" cy=\"201.26\" r=\"28.13\"/>\n",
       "    <circle fill=\"#FFFFFF\" stroke=\"#000000\" stroke-width=\"0.00px\" cx=\"2922.52\" cy=\"473.39\" r=\"28.13\"/>\n",
       "    <circle fill=\"#FFFFFF\" stroke=\"#000000\" stroke-width=\"0.00px\" cx=\"2922.52\" cy=\"745.51\" r=\"28.13\"/>\n",
       "    <circle fill=\"#FFFFFF\" stroke=\"#000000\" stroke-width=\"0.00px\" cx=\"2922.52\" cy=\"1017.64\" r=\"28.13\"/>\n",
       "    <circle fill=\"#FFFFFF\" stroke=\"#000000\" stroke-width=\"0.00px\" cx=\"2922.52\" cy=\"1289.76\" r=\"28.13\"/>\n",
       "    <circle fill=\"#FFFFFF\" stroke=\"#000000\" stroke-width=\"0.00px\" cx=\"2922.52\" cy=\"1561.89\" r=\"28.13\"/>\n",
       "    <circle fill=\"#FFFFFF\" stroke=\"#000000\" stroke-width=\"0.00px\" cx=\"2922.52\" cy=\"1834.02\" r=\"28.13\"/>\n",
       "</svg>"
      ],
      "text/plain": [
       "<IPython.core.display.SVG object>"
      ]
     },
     "metadata": {},
     "output_type": "display_data"
    }
   ],
   "source": [
    "# MFT dimensions (mm)\n",
    "width = 1102\n",
    "height = 718\n",
    "edge_margin = 16\n",
    "hole_diameter = 19.85 \n",
    "hole_spacing = 96.0\n",
    "corner_radius = edge_margin/2\n",
    "\n",
    "# hole pattern\n",
    "J = 11\n",
    "K = 7\n",
    "\n",
    "# find offsets that center the hole pattern on the table\n",
    "xoffset = (width - (J-1)*hole_spacing)/2\n",
    "yoffset = (height - (K-1)*hole_spacing)/2\n",
    "\n",
    "d = pyShaper(width, height, \"mm\")\n",
    "d.outside_rectangle(0, 0, width, height, corner_radius)\n",
    "for j in range(J):\n",
    "    for k in range(K):\n",
    "        x = xoffset + j*hole_spacing\n",
    "        y = yoffset + k*hole_spacing\n",
    "        d.inside_circle(x, y, hole_diameter/2)\n",
    "\n",
    "d.display()\n",
    "d.save(\"svg/mft.svg\")"
   ]
  },
  {
   "cell_type": "markdown",
   "metadata": {
    "id": "bhF1Z8bmnek9"
   },
   "source": [
    "## Oval Photo Frame"
   ]
  },
  {
   "cell_type": "code",
   "execution_count": 19,
   "metadata": {
    "colab": {
     "base_uri": "https://localhost:8080/",
     "height": 702
    },
    "executionInfo": {
     "elapsed": 105,
     "status": "ok",
     "timestamp": 1632762675024,
     "user": {
      "displayName": "Jeffrey Kantor",
      "photoUrl": "https://lh3.googleusercontent.com/a-/AOh14Gg_n8V7bVINy02QRuRgOoMo11Ri7NKU3OUKdC1bkQ=s64",
      "userId": "09038942003589296665"
     },
     "user_tz": 240
    },
    "id": "vSrW6tvX2-F7",
    "outputId": "cd9ed710-834b-4872-db9d-25f36369b633"
   },
   "outputs": [
    {
     "data": {
      "image/svg+xml": [
       "<svg xmlns=\"http://www.w3.org/2000/svg\" xmlns:xlink=\"http://www.w3.org/1999/xlink\" width=\"432.00\" height=\"576.00\" version=\"1.1\" viewbox=\"0 0 432.00 576.00\">\n",
       "<ellipse fill=\"#000000\" stroke=\"#000000\" stroke-width=\"0.00px\" cx=\"216.00\" cy=\"288.00\" rx=\"216.00\" ry=\"288.00\"/>\n",
       "    <ellipse fill=\"none\" stroke=\"#7F7F7F\" stroke-width=\"36.00px\" cx=\"216.00\" cy=\"288.00\" rx=\"162.00\" ry=\"234.00\"/>\n",
       "    <ellipse fill=\"#FFFFFF\" stroke=\"#000000\" stroke-width=\"0.00px\" cx=\"216.00\" cy=\"288.00\" rx=\"144.00\" ry=\"216.00\"/>\n",
       "</svg>"
      ],
      "text/plain": [
       "<IPython.core.display.SVG object>"
      ]
     },
     "metadata": {},
     "output_type": "display_data"
    },
    {
     "name": "stdout",
     "output_type": "stream",
     "text": [
      "<svg width='432.00' height='576.00' xmlns='http://www.w3.org/2000/svg' version='1.1' xmlns:xlink='http://www.w3.org/1999/xlink' viewbox = '0 0 432.00 576.00'>\n",
      "<ellipse fill='#000000'  stroke='#000000' stroke-width='0.00px' cx='216.00' cy='288.00' rx='216.00' ry='288.00' />\n",
      "    <ellipse fill='none'  stroke='#7F7F7F' stroke-width='36.00px' cx='216.00' cy='288.00' rx='162.00' ry='234.00' />\n",
      "    <ellipse fill='#FFFFFF'  stroke='#000000' stroke-width='0.00px' cx='216.00' cy='288.00' rx='144.00' ry='216.00' />\n",
      "</svg>\n"
     ]
    }
   ],
   "source": [
    "width = 6\n",
    "height = 8\n",
    "\n",
    "import numpy as np\n",
    "\n",
    "cx = width/2\n",
    "cy = height/2\n",
    "\n",
    "rx = width/2\n",
    "ry = height/2\n",
    "\n",
    "dwg = pyShaper(width, height, \"in\")\n",
    "dwg.outside_ellipse(cx, cy, rx, ry)\n",
    "dwg.ellipse(cx, cy, rx-.75, ry-.75, stroke_width=.5)\n",
    "dwg.inside_ellipse(cx, cy, rx-1, ry-1)\n",
    "dwg.display()\n",
    "print(dwg)\n",
    "dwg.save(\"svg/oval_frame.svg\")"
   ]
  },
  {
   "cell_type": "code",
   "execution_count": null,
   "metadata": {
    "id": "0QjTCBBd8egh"
   },
   "outputs": [],
   "source": []
  },
  {
   "cell_type": "code",
   "execution_count": null,
   "metadata": {},
   "outputs": [],
   "source": []
  }
 ],
 "metadata": {
  "colab": {
   "authorship_tag": "ABX9TyOILHUwkbY/RQA7j3d3CJyG",
   "collapsed_sections": [],
   "name": "pyShaper.ipynb",
   "provenance": []
  },
  "kernelspec": {
   "display_name": "Python 3 (ipykernel)",
   "language": "python",
   "name": "python3"
  },
  "language_info": {
   "codemirror_mode": {
    "name": "ipython",
    "version": 3
   },
   "file_extension": ".py",
   "mimetype": "text/x-python",
   "name": "python",
   "nbconvert_exporter": "python",
   "pygments_lexer": "ipython3",
   "version": "3.8.5"
  }
 },
 "nbformat": 4,
 "nbformat_minor": 4
}
